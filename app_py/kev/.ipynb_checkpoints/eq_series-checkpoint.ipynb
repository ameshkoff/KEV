{
 "cells": [
  {
   "cell_type": "markdown",
   "metadata": {},
   "source": [
    "# Run"
   ]
  },
  {
   "cell_type": "code",
   "execution_count": 1,
   "metadata": {},
   "outputs": [],
   "source": [
    "%run \"eq_py_run.py\""
   ]
  },
  {
   "cell_type": "code",
   "execution_count": 2,
   "metadata": {},
   "outputs": [
    {
     "name": "stdout",
     "output_type": "stream",
     "text": [
      "\n",
      "Equilibrium concentrations\n",
      "\n",
      "        H            L      M          H+L          L+M         2L+M  \\\n",
      "0     0.1  7.18497e-06  0.005  0.000991802   1.0125e-06  1.59155e-10   \n",
      "1    0.01  6.69112e-05  0.005  0.000923632  9.42907e-06  1.38028e-08   \n",
      "2  0.0001   0.00754446  0.005   0.00104143   0.00106316  0.000175479   \n",
      "\n",
      "             M              series  \n",
      "0  6.29463e-11  1.31826e-13         \n",
      "1  6.29463e-10  1.31826e-12         \n",
      "2  6.29463e-08  1.31826e-10         \n"
     ]
    }
   ],
   "source": [
    "print(\"\\nEquilibrium concentrations\\n\");\n",
    "print(c_res_out);"
   ]
  },
  {
   "cell_type": "code",
   "execution_count": 3,
   "metadata": {},
   "outputs": [
    {
     "name": "stdout",
     "output_type": "stream",
     "text": [
      "[1]\n",
      "['H', 'L', 'M', 'H+L', 'L+M', '2L+M', 'M', '']\n",
      "['H', 'L', 'M']\n",
      "0     eq\n",
      "1    tot\n",
      "2     eq\n",
      "3       \n",
      "Name: 0, dtype: object\n"
     ]
    }
   ],
   "source": [
    "print(idx);\n",
    "print(prod_names);\n",
    "print(prod_names_con);\n",
    "print(type_con);"
   ]
  },
  {
   "cell_type": "code",
   "execution_count": null,
   "metadata": {},
   "outputs": [],
   "source": []
  },
  {
   "cell_type": "code",
   "execution_count": null,
   "metadata": {},
   "outputs": [],
   "source": []
  }
 ],
 "metadata": {
  "kernelspec": {
   "display_name": "Python 3",
   "language": "python",
   "name": "python3"
  },
  "language_info": {
   "codemirror_mode": {
    "name": "ipython",
    "version": 3
   },
   "file_extension": ".py",
   "mimetype": "text/x-python",
   "name": "python",
   "nbconvert_exporter": "python",
   "pygments_lexer": "ipython3",
   "version": "3.7.3"
  }
 },
 "nbformat": 4,
 "nbformat_minor": 2
}
