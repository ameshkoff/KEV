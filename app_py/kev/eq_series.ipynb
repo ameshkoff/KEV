{
 "cells": [
  {
   "cell_type": "markdown",
   "metadata": {},
   "source": [
    "# Import libraries"
   ]
  },
  {
   "cell_type": "code",
   "execution_count": 1,
   "metadata": {},
   "outputs": [],
   "source": [
    "# ########################################################## #\n",
    "#                                                            #\n",
    "# Name: KEV:Constant Evaluator                               #\n",
    "# Author: GGamov                                             #\n",
    "# Date: 2019                                                 #\n",
    "#                                                            #\n",
    "# ########################################################## #\n",
    "\n",
    "# import libraries -------------------------------------------\n",
    "\n",
    "import math\n",
    "import numpy as np\n",
    "from copy import copy, deepcopy\n",
    "import pandas as pd\n",
    "from collections import Counter\n",
    "from openpyxl import load_workbook\n",
    "import re\n",
    "import io\n",
    "import os"
   ]
  },
  {
   "cell_type": "markdown",
   "metadata": {},
   "source": [
    "# Functions"
   ]
  },
  {
   "cell_type": "markdown",
   "metadata": {},
   "source": [
    "## Load data"
   ]
  },
  {
   "cell_type": "code",
   "execution_count": 2,
   "metadata": {},
   "outputs": [],
   "source": [
    "%run \"eq_data.py\""
   ]
  },
  {
   "cell_type": "markdown",
   "metadata": {},
   "source": [
    "## Preprocessing"
   ]
  },
  {
   "cell_type": "code",
   "execution_count": 3,
   "metadata": {},
   "outputs": [],
   "source": [
    "%run \"eq_preproc.py\""
   ]
  },
  {
   "cell_type": "markdown",
   "metadata": {},
   "source": [
    "## Newton evaluator wrapper"
   ]
  },
  {
   "cell_type": "code",
   "execution_count": 4,
   "metadata": {},
   "outputs": [],
   "source": [
    "%run \"eq_evaluator.py\""
   ]
  },
  {
   "cell_type": "markdown",
   "metadata": {},
   "source": [
    "## Postprocessing"
   ]
  },
  {
   "cell_type": "code",
   "execution_count": 5,
   "metadata": {},
   "outputs": [],
   "source": [
    "%run \"eq_postproc.py\""
   ]
  },
  {
   "cell_type": "markdown",
   "metadata": {},
   "source": [
    "## Writing the results to excel"
   ]
  },
  {
   "cell_type": "code",
   "execution_count": 6,
   "metadata": {},
   "outputs": [],
   "source": [
    "%run \"eq_writer.py\""
   ]
  },
  {
   "cell_type": "markdown",
   "metadata": {},
   "source": [
    "# Run"
   ]
  },
  {
   "cell_type": "code",
   "execution_count": 7,
   "metadata": {},
   "outputs": [],
   "source": [
    "# run --------------------------------------------------------\n",
    "\n",
    "# in order to read from scv files, uncomment the following 3 code lines and comment 3 subsequent lines \n",
    "# in order to read from xlsx file, comment the following 3 code lines and uncomment 3 subsequent lines\n",
    "\n",
    "# define variables -----------\n",
    "\n",
    "# input for bunch of csv files\n",
    "_subdir = \"concentrations/ds.3p.2eq\"\n",
    "_sep = \",\"\n",
    "_file = \"\" #\"big_ser_test.xlsx\" \n",
    "\n",
    "# input for xlsx file\n",
    "#_subdir = \"concentrations/ds.5p/xlsx\"\n",
    "#_sep = \";\"\n",
    "#_file = \"big_ser_test.xlsx\" #\"data.xlsx\" \n",
    "\n",
    "# input for ountput file\n",
    "subdir_out = \"concentrations/ds.3p.2eq\"\n",
    "sep_out = \";\"\n",
    "file_out = \"data_res.xlsx\" #\"big_ser_test_res.xlsx\" \n",
    "    \n",
    "# run loading function ------\n",
    "\n",
    "st_coeff_data, lg_k_data, con_data, type_con, component_name_for_yields = eq_scripts_load(_sep, _subdir, _file)\n",
    "\n",
    "# run preprocessing function ------\n",
    "\n",
    "ser_num, st_coeff_matrix, prod_names, lg_k, prod_names_con,\\\n",
    "con_matrix, ign_indices, idx, ser_counts, ser_info, type_con = eq_preproc(\n",
    "    st_coeff_data, con_data, type_con, lg_k_data, component_name_for_yields)\n",
    "\n",
    "con_matrix = np.concatenate(con_matrix, axis=0)\n",
    "\n",
    "# run calculations ------\n",
    "\n",
    "c_res_out, g_res_out = eq_calc(\n",
    "    max_iter, eps, component_name_for_yields, ser_num, st_coeff_matrix, type_con,\\\n",
    "    lg_k, con_matrix, ign_indices, ser_counts, ser_info)\n",
    "\n",
    "# run postprocessing function ------\n",
    "\n",
    "c_inp_out, c_res_out, c_yie_out, g_res_out, comp_name_res, results_stoich_coeff = eq_postproc(st_coeff_matrix, con_matrix, idx,\\\n",
    "    c_res_out, g_res_out, ser_num, ser_info, ser_counts, con_data, st_coeff_data,\\\n",
    "    prod_names, prod_names_con, component_name_for_yields, type_con, ign_indices)\n",
    "\n",
    "# run writing to excel function ------\n",
    "\n",
    "eq_output(sep_out, subdir_out, file_out, results_stoich_coeff, lg_k_data, c_inp_out,\\\n",
    "          c_res_out, c_yie_out, component_name_for_yields, g_res_out, comp_name_res)"
   ]
  },
  {
   "cell_type": "code",
   "execution_count": 8,
   "metadata": {},
   "outputs": [
    {
     "name": "stdout",
     "output_type": "stream",
     "text": [
      "\n",
      "Equilibrium concentrations\n",
      "\n",
      "        H      L           M         H+L          L+M         2L+M  \\\n",
      "0     0.1  0.001  0.00486003    0.138038  0.000136974  2.99667e-06   \n",
      "1    0.01  0.001  0.00486003   0.0138038  0.000136974  2.99667e-06   \n",
      "2  0.0001   0.01  0.00372159  0.00138038   0.00104889  0.000229472   \n",
      "\n",
      "             M              series  \n",
      "0  6.11841e-11  1.31826e-13         \n",
      "1  6.11841e-10  1.31826e-12         \n",
      "2  4.68521e-08  1.31826e-10         \n"
     ]
    }
   ],
   "source": [
    "print(\"\\nEquilibrium concentrations\\n\");\n",
    "print(c_res_out);"
   ]
  },
  {
   "cell_type": "code",
   "execution_count": 9,
   "metadata": {},
   "outputs": [
    {
     "name": "stdout",
     "output_type": "stream",
     "text": [
      "[1]\n",
      "['H', 'L', 'M', 'H+L', 'L+M', '2L+M', 'M', '']\n",
      "['H', 'L', 'M']\n",
      "0     eq\n",
      "1     eq\n",
      "2    tot\n",
      "3       \n",
      "Name: 0, dtype: object\n"
     ]
    }
   ],
   "source": [
    "print(idx);\n",
    "print(prod_names);\n",
    "print(prod_names_con);\n",
    "print(type_con);"
   ]
  }
 ],
 "metadata": {
  "kernelspec": {
   "display_name": "Python 3",
   "language": "python",
   "name": "python3"
  },
  "language_info": {
   "codemirror_mode": {
    "name": "ipython",
    "version": 3
   },
   "file_extension": ".py",
   "mimetype": "text/x-python",
   "name": "python",
   "nbconvert_exporter": "python",
   "pygments_lexer": "ipython3",
   "version": "3.7.3"
  }
 },
 "nbformat": 4,
 "nbformat_minor": 2
}
