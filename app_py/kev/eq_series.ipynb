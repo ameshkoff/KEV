{
 "cells": [
  {
   "cell_type": "markdown",
   "metadata": {},
   "source": [
    "# Run"
   ]
  },
  {
   "cell_type": "code",
   "execution_count": 1,
   "metadata": {},
   "outputs": [
    {
     "name": "stdout",
     "output_type": "stream",
     "text": [
      "[[0.1    0.001  0.005 ]\n",
      " [0.01   0.001  0.005 ]\n",
      " [0.0001 0.01   0.005 ]]\n"
     ]
    }
   ],
   "source": [
    "%run \"eq_py_run.py\""
   ]
  },
  {
   "cell_type": "code",
   "execution_count": 2,
   "metadata": {},
   "outputs": [
    {
     "name": "stdout",
     "output_type": "stream",
     "text": [
      "\n",
      "Equilibrium concentrations\n",
      "\n",
      "        H         L      M       H+L       L+M          2L+M             M  \\\n",
      "0  0.1000  0.000007  0.005  0.000992  0.000001  1.591549e-10  6.294627e-11   \n",
      "1  0.0100  0.000067  0.005  0.000924  0.000009  1.380283e-08  6.294627e-10   \n",
      "2  0.0001  0.007544  0.005  0.001041  0.001063  1.754794e-04  6.294627e-08   \n",
      "\n",
      "                 \n",
      "0  1.318257e-13  \n",
      "1  1.318257e-12  \n",
      "2  1.318257e-10  \n"
     ]
    }
   ],
   "source": [
    "print(\"\\nEquilibrium concentrations\\n\");\n",
    "print(c_res_out);"
   ]
  },
  {
   "cell_type": "code",
   "execution_count": 3,
   "metadata": {},
   "outputs": [
    {
     "name": "stdout",
     "output_type": "stream",
     "text": [
      "[1]\n",
      "['H', 'L', 'M', 'H+L', 'L+M', '2L+M', 'M', '']\n",
      "['H', 'L', 'M']\n",
      "0     eq\n",
      "1    tot\n",
      "2     eq\n",
      "Name: 0, dtype: object\n"
     ]
    }
   ],
   "source": [
    "print(idx);\n",
    "print(prod_names);\n",
    "print(prod_names_con);\n",
    "print(type_con);"
   ]
  },
  {
   "cell_type": "code",
   "execution_count": 4,
   "metadata": {},
   "outputs": [
    {
     "name": "stdout",
     "output_type": "stream",
     "text": [
      "[[0.1    0.001  0.005 ]\n",
      " [0.01   0.001  0.005 ]\n",
      " [0.0001 0.01   0.005 ]]\n"
     ]
    }
   ],
   "source": [
    "print(con_matrix)"
   ]
  },
  {
   "cell_type": "code",
   "execution_count": null,
   "metadata": {},
   "outputs": [],
   "source": []
  }
 ],
 "metadata": {
  "kernelspec": {
   "display_name": "Python 3",
   "language": "python",
   "name": "python3"
  },
  "language_info": {
   "codemirror_mode": {
    "name": "ipython",
    "version": 3
   },
   "file_extension": ".py",
   "mimetype": "text/x-python",
   "name": "python",
   "nbconvert_exporter": "python",
   "pygments_lexer": "ipython3",
   "version": "3.7.3"
  }
 },
 "nbformat": 4,
 "nbformat_minor": 2
}
